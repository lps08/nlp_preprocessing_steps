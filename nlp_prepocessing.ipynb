{
 "cells": [
  {
   "cell_type": "code",
   "execution_count": 1,
   "metadata": {},
   "outputs": [],
   "source": [
    "import re\n",
    "import nltk\n",
    "import string\n",
    "from nltk.corpus import stopwords, machado\n",
    "from collections import Counter\n",
    "from nltk.stem import RSLPStemmer"
   ]
  },
  {
   "cell_type": "markdown",
   "metadata": {},
   "source": [
    "## Downloading resources from nltk"
   ]
  },
  {
   "cell_type": "code",
   "execution_count": 2,
   "metadata": {},
   "outputs": [
    {
     "name": "stderr",
     "output_type": "stream",
     "text": [
      "[nltk_data] Downloading package stopwords to /home/lps/nltk_data...\n",
      "[nltk_data]   Package stopwords is already up-to-date!\n",
      "[nltk_data] Downloading package rslp to /home/lps/nltk_data...\n",
      "[nltk_data]   Package rslp is already up-to-date!\n",
      "[nltk_data] Downloading package wordnet to /home/lps/nltk_data...\n",
      "[nltk_data]   Package wordnet is already up-to-date!\n",
      "[nltk_data] Downloading package machado to /home/lps/nltk_data...\n",
      "[nltk_data]   Package machado is already up-to-date!\n"
     ]
    },
    {
     "data": {
      "text/plain": [
       "True"
      ]
     },
     "execution_count": 2,
     "metadata": {},
     "output_type": "execute_result"
    }
   ],
   "source": [
    "# download list of stopwords\n",
    "nltk.download('stopwords')\n",
    "# RSLPStemmer\n",
    "nltk.download('rslp')\n",
    "# WordNetLemmatizer\n",
    "nltk.download('wordnet')\n",
    "# download machado files\n",
    "nltk.download('machado')"
   ]
  },
  {
   "cell_type": "code",
   "execution_count": 3,
   "metadata": {},
   "outputs": [
    {
     "data": {
      "text/plain": [
       "'Romance, Memórias Póstumas de Brás Cubas, 1880\\n\\nMemórias Póstumas de\\nBrás Cubas\\n\\nTexto-fonte:\\nObra Completa, Machado de\\nAssis,\\nRio\\nde Janeiro: Editora Nova Aguilar, 1994.\\n\\nPublicado originalmente em\\nfolhetins, a partir de março de 1880, na Revista Brasileira.\\n\\nAo verme\\nque\\nprimeiro roeu as frias\\ncarnes\\ndo meu cadáver\\n\\ndedico\\ncomo saudosa lembrança\\n\\nestas\\nMemórias\\nPóstumas\\n\\nPrólogo da terceira\\nedição\\n\\nA primeira edição destas\\nMemórias Póstumas de Brás Cubas foi feita aos pedaços na Revista\\nBrasileira, pelos anos de 1880. Postas mais tarde em livro, corrigi o texto em\\nvários lugares. Agora que tive de o rever para a terceira edição, emendei ainda\\nalguma coisa e suprimi duas ou três dúzias de linhas. Assim composta, sai\\nnovamente à luz esta obra que alguma benevolência parece ter encontrado no\\npúblico.\\n\\nCapistrano de Abreu, noticiando a\\npublicação do livro, perguntava: \\x93As Memórias Póstumas de Brás Cubas são\\num romance?\\x94 Macedo Soares, em carta que me escreveu por esse tempo'"
      ]
     },
     "execution_count": 3,
     "metadata": {},
     "output_type": "execute_result"
    }
   ],
   "source": [
    "raw_text = machado.raw('romance/marm05.txt')\n",
    "text = raw_text[0:986]\n",
    "text"
   ]
  },
  {
   "cell_type": "markdown",
   "metadata": {},
   "source": [
    "## Removing unknown characters"
   ]
  },
  {
   "cell_type": "code",
   "execution_count": 4,
   "metadata": {},
   "outputs": [],
   "source": [
    "def remove_unknown_char(text:str, unknown_char:str) -> str:\n",
    "    \"\"\"\n",
    "        Remove all unknown character setted by parameter\n",
    "    \"\"\"\n",
    "    return \" \".join([word.replace(unknown_char, '') for word in text.split()])"
   ]
  },
  {
   "cell_type": "code",
   "execution_count": 5,
   "metadata": {},
   "outputs": [
    {
     "data": {
      "text/plain": [
       "'Romance, Memórias Póstumas de Brás Cubas, 1880 Memórias Póstumas de Brás Cubas Texto-fonte: Obra Completa, Machado de Assis, Rio de Janeiro: Editora Nova Aguilar, 1994. Publicado originalmente em folhetins, a partir de março de 1880, na Revista Brasileira. Ao verme que primeiro roeu as frias carnes do meu cadáver dedico como saudosa lembrança estas Memórias Póstumas Prólogo da terceira edição A primeira edição destas Memórias Póstumas de Brás Cubas foi feita aos pedaços na Revista Brasileira, pelos anos de 1880. Postas mais tarde em livro, corrigi o texto em vários lugares. Agora que tive de o rever para a terceira edição, emendei ainda alguma coisa e suprimi duas ou três dúzias de linhas. Assim composta, sai novamente à luz esta obra que alguma benevolência parece ter encontrado no público. Capistrano de Abreu, noticiando a publicação do livro, perguntava: As Memórias Póstumas de Brás Cubas são um romance? Macedo Soares, em carta que me escreveu por esse tempo'"
      ]
     },
     "execution_count": 5,
     "metadata": {},
     "output_type": "execute_result"
    }
   ],
   "source": [
    "text = remove_unknown_char(text, '\\n')\n",
    "text = remove_unknown_char(text, '\\x93')\n",
    "text = remove_unknown_char(text, '\\x94')\n",
    "text"
   ]
  },
  {
   "cell_type": "markdown",
   "metadata": {},
   "source": [
    "## Lower Casing"
   ]
  },
  {
   "cell_type": "code",
   "execution_count": 6,
   "metadata": {},
   "outputs": [
    {
     "data": {
      "text/plain": [
       "'romance, memórias póstumas de brás cubas, 1880 memórias póstumas de brás cubas texto-fonte: obra completa, machado de assis, rio de janeiro: editora nova aguilar, 1994. publicado originalmente em folhetins, a partir de março de 1880, na revista brasileira. ao verme que primeiro roeu as frias carnes do meu cadáver dedico como saudosa lembrança estas memórias póstumas prólogo da terceira edição a primeira edição destas memórias póstumas de brás cubas foi feita aos pedaços na revista brasileira, pelos anos de 1880. postas mais tarde em livro, corrigi o texto em vários lugares. agora que tive de o rever para a terceira edição, emendei ainda alguma coisa e suprimi duas ou três dúzias de linhas. assim composta, sai novamente à luz esta obra que alguma benevolência parece ter encontrado no público. capistrano de abreu, noticiando a publicação do livro, perguntava: as memórias póstumas de brás cubas são um romance? macedo soares, em carta que me escreveu por esse tempo'"
      ]
     },
     "execution_count": 6,
     "metadata": {},
     "output_type": "execute_result"
    }
   ],
   "source": [
    "text = text.lower()\n",
    "text"
   ]
  },
  {
   "cell_type": "markdown",
   "metadata": {},
   "source": [
    "## Removing Punctuations"
   ]
  },
  {
   "cell_type": "code",
   "execution_count": 7,
   "metadata": {},
   "outputs": [],
   "source": [
    "def remove_punctuations(text:str) -> str:\n",
    "    \"\"\"\n",
    "        Remove all ponctuations in the text input\n",
    "    \"\"\"\n",
    "    punct = string.punctuation\n",
    "\n",
    "    return text.translate(str.maketrans('', '', punct))"
   ]
  },
  {
   "cell_type": "code",
   "execution_count": 8,
   "metadata": {},
   "outputs": [
    {
     "data": {
      "text/plain": [
       "'romance memórias póstumas de brás cubas 1880 memórias póstumas de brás cubas textofonte obra completa machado de assis rio de janeiro editora nova aguilar 1994 publicado originalmente em folhetins a partir de março de 1880 na revista brasileira ao verme que primeiro roeu as frias carnes do meu cadáver dedico como saudosa lembrança estas memórias póstumas prólogo da terceira edição a primeira edição destas memórias póstumas de brás cubas foi feita aos pedaços na revista brasileira pelos anos de 1880 postas mais tarde em livro corrigi o texto em vários lugares agora que tive de o rever para a terceira edição emendei ainda alguma coisa e suprimi duas ou três dúzias de linhas assim composta sai novamente à luz esta obra que alguma benevolência parece ter encontrado no público capistrano de abreu noticiando a publicação do livro perguntava as memórias póstumas de brás cubas são um romance macedo soares em carta que me escreveu por esse tempo'"
      ]
     },
     "execution_count": 8,
     "metadata": {},
     "output_type": "execute_result"
    }
   ],
   "source": [
    "text = remove_punctuations(text)\n",
    "text"
   ]
  },
  {
   "cell_type": "markdown",
   "metadata": {},
   "source": [
    "## Removing stopwords"
   ]
  },
  {
   "cell_type": "code",
   "execution_count": 9,
   "metadata": {},
   "outputs": [],
   "source": [
    "def remove_stopwords(text:str) -> str:\n",
    "    \"\"\"\n",
    "        Revemo all stopwords of a text input\n",
    "    \"\"\"\n",
    "    stopwd = stopwords.words('portuguese')\n",
    "\n",
    "    return \" \".join([word for word in text.split() if word not in stopwd])"
   ]
  },
  {
   "cell_type": "code",
   "execution_count": 10,
   "metadata": {},
   "outputs": [
    {
     "data": {
      "text/plain": [
       "'romance memórias póstumas brás cubas 1880 memórias póstumas brás cubas textofonte obra completa machado assis rio janeiro editora nova aguilar 1994 publicado originalmente folhetins partir março 1880 revista brasileira verme primeiro roeu frias carnes cadáver dedico saudosa lembrança memórias póstumas prólogo terceira edição primeira edição destas memórias póstumas brás cubas feita pedaços revista brasileira anos 1880 postas tarde livro corrigi texto vários lugares agora rever terceira edição emendei ainda alguma coisa suprimi duas três dúzias linhas assim composta sai novamente luz obra alguma benevolência parece ter encontrado público capistrano abreu noticiando publicação livro perguntava memórias póstumas brás cubas romance macedo soares carta escreveu tempo'"
      ]
     },
     "execution_count": 10,
     "metadata": {},
     "output_type": "execute_result"
    }
   ],
   "source": [
    "text = remove_stopwords(text)\n",
    "text"
   ]
  },
  {
   "cell_type": "markdown",
   "metadata": {},
   "source": [
    "## Removing unknown words"
   ]
  },
  {
   "cell_type": "code",
   "execution_count": 11,
   "metadata": {},
   "outputs": [],
   "source": [
    "def remove_unknown_words(text:str) -> str:\n",
    "        \"\"\"\n",
    "            Removing unknown words <= 2 after removing stopwords\n",
    "        \"\"\"\n",
    "        return \" \".join([word for word in text.split() if len(word) > 2])"
   ]
  },
  {
   "cell_type": "code",
   "execution_count": 12,
   "metadata": {},
   "outputs": [
    {
     "data": {
      "text/plain": [
       "'romance memórias póstumas brás cubas 1880 memórias póstumas brás cubas textofonte obra completa machado assis rio janeiro editora nova aguilar 1994 publicado originalmente folhetins partir março 1880 revista brasileira verme primeiro roeu frias carnes cadáver dedico saudosa lembrança memórias póstumas prólogo terceira edição primeira edição destas memórias póstumas brás cubas feita pedaços revista brasileira anos 1880 postas tarde livro corrigi texto vários lugares agora rever terceira edição emendei ainda alguma coisa suprimi duas três dúzias linhas assim composta sai novamente luz obra alguma benevolência parece ter encontrado público capistrano abreu noticiando publicação livro perguntava memórias póstumas brás cubas romance macedo soares carta escreveu tempo'"
      ]
     },
     "execution_count": 12,
     "metadata": {},
     "output_type": "execute_result"
    }
   ],
   "source": [
    "text = remove_unknown_words(text)\n",
    "text"
   ]
  },
  {
   "cell_type": "markdown",
   "metadata": {},
   "source": [
    "## Removing Frequent words"
   ]
  },
  {
   "cell_type": "code",
   "execution_count": 13,
   "metadata": {},
   "outputs": [],
   "source": [
    "def frequent_words(text:str, num_top_frequency:int = 10) -> list:\n",
    "    \"\"\"\n",
    "        Return a list of frequency words\n",
    "    \"\"\"\n",
    "    freq = Counter()\n",
    "\n",
    "    for word in text.split():\n",
    "        # counting each word\n",
    "        freq[word] += 1\n",
    "\n",
    "    return freq.most_common(num_top_frequency)"
   ]
  },
  {
   "cell_type": "code",
   "execution_count": 14,
   "metadata": {},
   "outputs": [
    {
     "data": {
      "text/plain": [
       "[('memórias', 5),\n",
       " ('póstumas', 5),\n",
       " ('brás', 4),\n",
       " ('cubas', 4),\n",
       " ('1880', 3),\n",
       " ('edição', 3),\n",
       " ('romance', 2),\n",
       " ('obra', 2),\n",
       " ('revista', 2),\n",
       " ('brasileira', 2),\n",
       " ('terceira', 2),\n",
       " ('livro', 2),\n",
       " ('alguma', 2),\n",
       " ('textofonte', 1),\n",
       " ('completa', 1),\n",
       " ('machado', 1),\n",
       " ('assis', 1),\n",
       " ('rio', 1),\n",
       " ('janeiro', 1),\n",
       " ('editora', 1)]"
      ]
     },
     "execution_count": 14,
     "metadata": {},
     "output_type": "execute_result"
    }
   ],
   "source": [
    "frequent_words(text, num_top_frequency=20)"
   ]
  },
  {
   "cell_type": "code",
   "execution_count": 15,
   "metadata": {},
   "outputs": [],
   "source": [
    "def remove_freq_words(text:str, top_frequency_word:int = 10) -> str:\n",
    "    \"\"\"\n",
    "        Remove all stopwords in the input text\n",
    "    \"\"\"\n",
    "\n",
    "    freq_words = [word for (word, _) in frequent_words(text=text, num_top_frequency=top_frequency_word)]\n",
    "\n",
    "    return \" \".join([word for word in text.split() if word not in freq_words])\n"
   ]
  },
  {
   "cell_type": "code",
   "execution_count": 16,
   "metadata": {},
   "outputs": [
    {
     "data": {
      "text/plain": [
       "'romance textofonte obra completa machado assis rio janeiro editora nova aguilar 1994 publicado originalmente folhetins partir março revista brasileira verme primeiro roeu frias carnes cadáver dedico saudosa lembrança prólogo terceira edição primeira edição destas feita pedaços revista brasileira anos postas tarde livro corrigi texto vários lugares agora rever terceira edição emendei ainda alguma coisa suprimi duas três dúzias linhas assim composta sai novamente luz obra alguma benevolência parece ter encontrado público capistrano abreu noticiando publicação livro perguntava romance macedo soares carta escreveu tempo'"
      ]
     },
     "execution_count": 16,
     "metadata": {},
     "output_type": "execute_result"
    }
   ],
   "source": [
    "text = remove_freq_words(text, top_frequency_word=5)\n",
    "text"
   ]
  },
  {
   "cell_type": "markdown",
   "metadata": {},
   "source": [
    "## Removing rare words"
   ]
  },
  {
   "cell_type": "code",
   "execution_count": 17,
   "metadata": {},
   "outputs": [],
   "source": [
    "def remove_rare_words(text:str) -> str:\n",
    "        \"\"\"\n",
    "            Remove all words with occurrence less than 1\n",
    "        \"\"\"\n",
    "\n",
    "        freq_words = [word for (word, freq) in frequent_words(text=text, num_top_frequency=None) if freq == 1]\n",
    "\n",
    "        # reversing top freq words to get all the rare one.\n",
    "        rare_words = freq_words[::-1]\n",
    "        \n",
    "        return \" \".join([word for word in text.split() if word not in rare_words])"
   ]
  },
  {
   "cell_type": "code",
   "execution_count": 18,
   "metadata": {},
   "outputs": [
    {
     "data": {
      "text/plain": [
       "'romance obra revista brasileira terceira edição edição revista brasileira livro terceira edição alguma obra alguma livro romance'"
      ]
     },
     "execution_count": 18,
     "metadata": {},
     "output_type": "execute_result"
    }
   ],
   "source": [
    "text = remove_rare_words(text)\n",
    "text"
   ]
  },
  {
   "cell_type": "markdown",
   "metadata": {},
   "source": [
    "## Steamming"
   ]
  },
  {
   "cell_type": "markdown",
   "metadata": {},
   "source": [
    "For portuguese words, we'll use RSLPStemmer"
   ]
  },
  {
   "cell_type": "code",
   "execution_count": 19,
   "metadata": {},
   "outputs": [],
   "source": [
    "def steamming(text:str) -> str:\n",
    "    \"\"\"\n",
    "        Reduces each word to the root\n",
    "    \"\"\"\n",
    "    steammer = RSLPStemmer()\n",
    "\n",
    "    return \" \".join([steammer.stem(word) for word in text.split()])"
   ]
  },
  {
   "cell_type": "code",
   "execution_count": 20,
   "metadata": {},
   "outputs": [
    {
     "data": {
      "text/plain": [
       "'romanc obr revist brasil terc ediç ediç revist brasil livr terc ediç algum obr algum livr romanc'"
      ]
     },
     "execution_count": 20,
     "metadata": {},
     "output_type": "execute_result"
    }
   ],
   "source": [
    "text = steamming(text)\n",
    "text"
   ]
  },
  {
   "cell_type": "markdown",
   "metadata": {},
   "source": [
    "## Removing URLs"
   ]
  },
  {
   "cell_type": "code",
   "execution_count": 21,
   "metadata": {},
   "outputs": [],
   "source": [
    "def remove_urls(text:str) -> str:\n",
    "    \"\"\"\n",
    "        Remove all url symbols from the input text\n",
    "    \"\"\"\n",
    "    upattern = re.compile(r'https?://\\S+|www\\.\\S+')\n",
    "    return upattern.sub(r'', text)"
   ]
  },
  {
   "cell_type": "code",
   "execution_count": 22,
   "metadata": {},
   "outputs": [
    {
     "data": {
      "text/plain": [
       "'romanc obr revist brasil terc ediç ediç revist brasil livr terc ediç algum obr algum livr romanchttps://github.com/lps08/nlp_preprocessing_steps https://github.com/lps08/nlp_preprocessing_steps'"
      ]
     },
     "execution_count": 22,
     "metadata": {},
     "output_type": "execute_result"
    }
   ],
   "source": [
    "# exemple adding two times a url\n",
    "text += 'https://github.com/lps08/nlp_preprocessing_steps'\n",
    "text += ' https://github.com/lps08/nlp_preprocessing_steps'\n",
    "text"
   ]
  },
  {
   "cell_type": "code",
   "execution_count": 23,
   "metadata": {},
   "outputs": [
    {
     "data": {
      "text/plain": [
       "'romanc obr revist brasil terc ediç ediç revist brasil livr terc ediç algum obr algum livr romanc '"
      ]
     },
     "execution_count": 23,
     "metadata": {},
     "output_type": "execute_result"
    }
   ],
   "source": [
    "text = remove_urls(text)\n",
    "text"
   ]
  },
  {
   "cell_type": "markdown",
   "metadata": {},
   "source": [
    "## Removing tags"
   ]
  },
  {
   "cell_type": "code",
   "execution_count": 24,
   "metadata": {},
   "outputs": [],
   "source": [
    "def remove_tags(text):\n",
    "    \"\"\"\n",
    "        Remove all tags from the input text\n",
    "    \"\"\"\n",
    "    pattern = re.compile('<.*?>')\n",
    "    return pattern.sub(r'', text)"
   ]
  },
  {
   "cell_type": "code",
   "execution_count": 25,
   "metadata": {},
   "outputs": [
    {
     "data": {
      "text/plain": [
       "'romanc obr revist brasil terc ediç ediç revist brasil livr terc ediç algum obr algum livr romanc <span>Title</span>'"
      ]
     },
     "execution_count": 25,
     "metadata": {},
     "output_type": "execute_result"
    }
   ],
   "source": [
    "# example tags\n",
    "text += '<span>Title</span>'\n",
    "text"
   ]
  },
  {
   "cell_type": "code",
   "execution_count": 26,
   "metadata": {},
   "outputs": [
    {
     "data": {
      "text/plain": [
       "'romanc obr revist brasil terc ediç ediç revist brasil livr terc ediç algum obr algum livr romanc Title'"
      ]
     },
     "execution_count": 26,
     "metadata": {},
     "output_type": "execute_result"
    }
   ],
   "source": [
    "text = remove_tags(text)\n",
    "text"
   ]
  },
  {
   "cell_type": "code",
   "execution_count": null,
   "metadata": {},
   "outputs": [],
   "source": []
  }
 ],
 "metadata": {
  "interpreter": {
   "hash": "329eb0fbb67937f7401a16ffbd86fa7047aee5692fd264beb4896ec91bb8b462"
  },
  "kernelspec": {
   "display_name": "Python 3.8.11 64-bit ('ia': conda)",
   "name": "python3"
  },
  "language_info": {
   "codemirror_mode": {
    "name": "ipython",
    "version": 3
   },
   "file_extension": ".py",
   "mimetype": "text/x-python",
   "name": "python",
   "nbconvert_exporter": "python",
   "pygments_lexer": "ipython3",
   "version": "3.8.11"
  },
  "orig_nbformat": 4
 },
 "nbformat": 4,
 "nbformat_minor": 2
}
